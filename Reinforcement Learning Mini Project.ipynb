{
 "cells": [
  {
   "cell_type": "code",
   "execution_count": 1,
   "id": "c5c8c688",
   "metadata": {},
   "outputs": [],
   "source": [
    "import numpy as np\n",
    "import matplotlib.pyplot as plt\n",
    "import mdp_tut_functions as mdp43wa\n",
    "import env_functions as ef\n",
    "from rl_utils import running_mean, discount_rwds\n",
    "\n",
    "# set seed for pseudorandom number generation -- make sure our trajectories look the same\n",
    "np.random.seed(80)\n",
    "\n",
    "%matplotlib inline\n",
    "\n",
    "from importlib import reload"
   ]
  },
  {
   "cell_type": "code",
   "execution_count": 2,
   "id": "318024fc",
   "metadata": {},
   "outputs": [],
   "source": [
    "#\n",
    "state=8\n",
    "action=8\n",
    "range(-3,3)\n",
    "def state_reward_action(state,action):\n",
    "    reward_matrix=np.random.randint(5,size=(state,action))\n",
    "    print(f'state reward action:{reward_matrix}')\n",
    "    return"
   ]
  },
  {
   "cell_type": "code",
   "execution_count": 3,
   "id": "9508d1c7",
   "metadata": {},
   "outputs": [
    {
     "name": "stdout",
     "output_type": "stream",
     "text": [
      "state reward action:[[4 3 2 2 3 3 1 2]\n",
      " [4 0 1 1 4 2 4 3]\n",
      " [4 2 4 3 1 0 0 0]\n",
      " [3 3 2 0 3 2 2 1]\n",
      " [0 4 0 1 0 4 1 1]\n",
      " [1 0 1 4 0 3 0 3]\n",
      " [3 2 0 3 3 3 0 4]\n",
      " [3 3 4 0 3 1 0 0]]\n"
     ]
    }
   ],
   "source": [
    "state_reward_action(8,8)"
   ]
  },
  {
   "cell_type": "code",
   "execution_count": 4,
   "id": "e98698d8",
   "metadata": {
    "scrolled": true
   },
   "outputs": [
    {
     "data": {
      "image/png": "[encoded data removed]",
      "text/plain": [
       "<Figure size 403.2x403.2 with 1 Axes>"
      ]
     },
     "metadata": {},
     "output_type": "display_data"
    }
   ],
   "source": [
    "#CREATING AN ENVIRONMENT\n",
    "#Obstacles are the black squares\n",
    "#Reward is the green square\n",
    "#Learning Agent is the blue circle moving randomly\n",
    "#the terminal is in the same position as the reward so when the learning agent gets there it will stop and not move again.\n",
    "n_rows,n_cols = 16,16\n",
    "step_penalization=-0.01\n",
    "gw_obst = ef.GridWorld(rows=n_rows,cols=n_cols,\n",
    "                  obstacles=[(6,4),(5,5),(4,6),(3,7),(2,8),(3,9),(4,10),(5,11),(6,12),(7,11),(8,10),(9,9),(10,8),(9,9),(9,7),(8,6)], \n",
    "                  rewards={(6,8):10},\n",
    "                  terminals=[(6,8)],\n",
    "                  step_penalization=step_penalization,\n",
    "                  actionlist=['Down','Up','Right','Left'],\n",
    "                  view_labels=False\n",
    "                 )\n",
    "\n",
    "#obst_gw_steps,obst_gw_rwds = navigate(gw_obst, random_walker)\n"
   ]
  },
  {
   "cell_type": "code",
   "execution_count": 5,
   "id": "e6094f90",
   "metadata": {},
   "outputs": [
    {
     "name": "stdout",
     "output_type": "stream",
     "text": [
      "[0. 0. 0. 0. 1. 0. 0. 0. 0. 0. 0. 0. 0. 0. 0. 0. 0. 0. 0. 0. 0. 0. 0. 0.\n",
      " 0. 0. 0. 0. 0. 0. 0. 0. 0. 0. 0. 0. 0. 0. 0. 0. 0. 0. 0. 0. 0. 0. 0. 0.\n",
      " 0. 0. 0. 0. 0. 0. 0. 0. 0. 0. 0. 0. 0. 0. 0. 0. 0. 0. 0. 0. 0. 0. 0. 0.\n",
      " 0. 0. 0. 0. 0. 0. 0. 0. 0. 0. 0. 0. 0. 0. 0. 0. 0. 0. 0. 0. 0. 0. 0. 0.\n",
      " 0. 0. 0. 0. 0. 0. 0. 0. 0. 0. 0. 0. 0. 0. 0. 0. 0. 0. 0. 0. 0. 0. 0. 0.\n",
      " 0. 0. 0. 0. 0. 0. 0. 0. 0. 0. 0. 0. 0. 0. 0. 0. 0. 0. 0. 0. 0. 0. 0. 0.\n",
      " 0. 0. 0. 0. 0. 0. 0. 0. 0. 0. 0. 0. 0. 0. 0. 0. 0. 0. 0. 0. 0. 0. 0. 0.\n",
      " 0. 0. 0. 0. 0. 0. 0. 0. 0. 0. 0. 0. 0. 0. 0. 0. 0. 0. 0. 0. 0. 0. 0. 0.\n",
      " 0. 0. 0. 0. 0. 0. 0. 0. 0. 0. 0. 0. 0. 0. 0. 0. 0. 0. 0. 0. 0. 0. 0. 0.\n",
      " 0. 0. 0. 0. 0. 0. 0. 0. 0. 0. 0. 0. 0. 0. 0. 0. 0. 0. 0. 0. 0. 0. 0. 0.\n",
      " 0. 0. 0. 0. 0. 0. 0. 0. 0. 0. 0. 0. 0. 0. 0. 0.]\n"
     ]
    }
   ],
   "source": [
    "print(gw_obst.P[2,3,:])"
   ]
  },
  {
   "cell_type": "code",
   "execution_count": 6,
   "id": "cc34edc7",
   "metadata": {},
   "outputs": [],
   "source": [
    "class TabularAgent(object):\n",
    "    def __init__(self, nstates, nactions, \n",
    "                 learning_rate=0.1, discount=0.9, epsilon=1.0):\n",
    "        \n",
    "        self.num_actions = nactions\n",
    "        self.action_space = np.arange(self.num_actions)\n",
    "\n",
    "        # this agent selects actions from a table of state,action values which we initalize randomly\n",
    "        #self.q_table = np.random.uniform(low=-1, high=1, size=(nstates, nactions))\n",
    "        self.q_table = np.zeros((gw_obst.nstates, gw_obst.nactions))\n",
    "\n",
    "        # parameters for learning\n",
    "        self.epsilon       = epsilon\n",
    "        self.learning_rate = learning_rate\n",
    "        self.discount      = discount\n",
    "        \n",
    "    def choose_action(self, state):\n",
    "        # this agent uses epsilon-greedy action selection, meaning that it selects \n",
    "        # the greedy (highest value) action most of the time, but with epsilon probability\n",
    "        # it will select a random action -- this helps encourage the agent to explore\n",
    "        # unseen trajectories\n",
    "        \n",
    "        ## TO DO -- write action selection for an epsilon-greedy policy \n",
    "        if np.random.random()>self.epsilon:\n",
    "            # take the action which corresponds to the highest value in the q table at that row (state)\n",
    "            action = np.argmax(self.q_table[state])\n",
    "        else:\n",
    "            action = np.random.choice(self.action_space)\n",
    "        return action\n",
    "    \n",
    "  "
   ]
  },
  {
   "cell_type": "code",
   "execution_count": 7,
   "id": "12394004",
   "metadata": {},
   "outputs": [],
   "source": [
    "  # MC Learning of the state value function\n",
    "class MC_Agent(TabularAgent):\n",
    "    def __init__(self, nstates,nactions, learning_rate=0.1, discount=0.95, epsilon=1.0):\n",
    "        super().__init__(nstates,nactions, learning_rate=learning_rate , discount=discount, epsilon=epsilon)\n",
    "\n",
    "    def update_q_table(self, current_state, current_action, computed_return):\n",
    "        # this function describes how the Q table gets updated so the agent can make \n",
    "        # better choices based on what it has experienced from the environment \n",
    "        current_q = self.q_table[current_state, current_action]\n",
    "        \n",
    "        ## TO DO -- write the Q value update step\n",
    "\n",
    "        new_q = current_q + self.learning_rate*(computed_return-current_q)\n",
    "        self.q_table[current_state, current_action] = new_q\n",
    "        \n",
    "    def navigate(self, gw_obst, num_episodes, random_start=False, start=0):\n",
    "        # set how we will decay the randomness of action selection over the course of training\n",
    "        start_eps_decay = 1\n",
    "        end_eps_decay = num_episodes//2\n",
    "        epsilon_decay_value = self.epsilon/(end_eps_decay-start_eps_decay)\n",
    "\n",
    "        # initialize empty list for keeping track of rewards achieved per episode\n",
    "        reward_tracking=[]\n",
    "        max_steps= 1000\n",
    "\n",
    "        for episode in range(num_episodes):\n",
    "            gw_obst.reset()\n",
    "            # initalize reward counter\n",
    "            total_reward=0\n",
    "\n",
    "            # get first state and action\n",
    "            if random_start:\n",
    "                state=np.random.choice(gw_obst.nstates)\n",
    "            else:\n",
    "                state=start\n",
    "            \n",
    "            states, actions, rewards = [], [], []\n",
    "            for step in range(max_steps):\n",
    "                action = self.choose_action(state)\n",
    "                # take a step in the environment\n",
    "                next_state, reward, done, _ = gw_obst.step(action)\n",
    "\n",
    "                total_reward+=reward\n",
    "\n",
    "                if not done:\n",
    "                    states.append(state)\n",
    "                    actions.append(action)\n",
    "                    rewards.append(reward)\n",
    "                else:\n",
    "                    break\n",
    "                state=next_state\n",
    "            \n",
    "            # compute return\n",
    "            returns = discount_rwds(rewards)\n",
    "            for i in range(len(states)):\n",
    "                self.update_q_table(states[i],actions[i],returns[i])\n",
    "            \n",
    "            reward_tracking.append(total_reward)\n",
    "\n",
    "            if end_eps_decay >= episode >= start_eps_decay:\n",
    "                self.epsilon -= epsilon_decay_value\n",
    "\n",
    "        return reward_tracking"
   ]
  },
  {
   "cell_type": "code",
   "execution_count": 8,
   "id": "aaa7e680",
   "metadata": {},
   "outputs": [],
   "source": [
    "class Q_Agent(TabularAgent):\n",
    "    def __init__(self, nstates,nactions, learning_rate=0.1, discount=0.95, epsilon=1.0):\n",
    "        super().__init__(nstates,nactions, learning_rate=learning_rate , discount=discount, epsilon=epsilon)\n",
    "\n",
    "    def update_q_table(self, current_state, current_action, reward, new_state):\n",
    "        # this function describes how the Q table gets updated so the agent can make \n",
    "        # better choices based on what it has experienced from the environment \n",
    "        current_q = self.q_table[ current_state, current_action]\n",
    "        max_future_q = np.max(self.q_table[new_state,:])\n",
    "        \n",
    "        ## TO DO -- write the Q value update using Q-learning\n",
    "        new_q = current_q + self.learning_rate*(reward+self.discount*max_future_q-current_q)\n",
    "        self.q_table[current_state, current_action] = new_q\n",
    "        \n",
    "    def navigate(self, gw_obst, num_episodes, random_start=False, start=0):\n",
    "        # set how we will decay the randomness of action selection over the course of training\n",
    "        start_eps_decay = 1\n",
    "        end_eps_decay = num_episodes//2\n",
    "        epsilon_decay_value = self.epsilon/(end_eps_decay-start_eps_decay)\n",
    "\n",
    "        # initialize empty list for keeping track of rewards achieved per episode\n",
    "        reward_tracking=[]\n",
    "        max_steps= 1000\n",
    "\n",
    "        for episode in range(num_episodes):\n",
    "            gw_obst.reset()\n",
    "            # initalize reward counter\n",
    "            total_reward=0\n",
    "\n",
    "            # get first state and action\n",
    "            if random_start:\n",
    "                state=np.random.choice(gw_obst.nstates)\n",
    "            else:\n",
    "                state=start\n",
    "\n",
    "            for step in range(max_steps):\n",
    "                action = self.choose_action(state)\n",
    "                # take a step in the environment\n",
    "                next_state, reward, done, _ = gw_obst.step(action)\n",
    "\n",
    "                total_reward+=reward\n",
    "\n",
    "                if not done:\n",
    "                    self.update_q_table(state, action, reward, next_state)\n",
    "                else:\n",
    "                    self.q_table[state, action] = 0\n",
    "                    break\n",
    "                state=next_state\n",
    "\n",
    "            reward_tracking.append(total_reward)\n",
    "\n",
    "            if end_eps_decay >= episode >= start_eps_decay:\n",
    "                self.epsilon -= epsilon_decay_value\n",
    "\n",
    "        return reward_tracking"
   ]
  },
  {
   "cell_type": "code",
   "execution_count": 9,
   "id": "c9a3fef9",
   "metadata": {},
   "outputs": [],
   "source": [
    "# Visualizing the reward function another way\n",
    "def plot_reward_map(gw_obs):\n",
    "    R_map = plt.imshow(gw_obs.R.reshape(n_rows,n_cols))\n",
    "    plt.colorbar(R_map)\n",
    "    plt.show()\n",
    "    \n",
    "#plot_reward_map(gw_open)"
   ]
  },
  {
   "cell_type": "code",
   "execution_count": 10,
   "id": "a2055c47",
   "metadata": {},
   "outputs": [
    {
     "name": "stdout",
     "output_type": "stream",
     "text": [
      "Reward Function in Environment:\n"
     ]
    },
    {
     "data": {
      "image/png": "[encoded data removed]",
      "text/plain": [
       "<Figure size 432x288 with 2 Axes>"
      ]
     },
     "metadata": {
      "needs_background": "light"
     },
     "output_type": "display_data"
    },
    {
     "name": "stdout",
     "output_type": "stream",
     "text": [
      "Running MC Agent...\n",
      "Done\n",
      "Running Q-Learning Agent...\n",
      "Done\n"
     ]
    }
   ],
   "source": [
    "## let's look at the reward function on the environment:\n",
    "print('Reward Function in Environment:')\n",
    "plot_reward_map(gw_obst)\n",
    "\n",
    "number_of_episodes = 5000\n",
    "\n",
    "## run the MC agent through the environment\n",
    "mc_learner = MC_Agent(gw_obst.nstates, gw_obst.nactions)\n",
    "print('Running MC Agent...'),\n",
    "mc_rewards = mc_learner.navigate(gw_obst, num_episodes=number_of_episodes)\n",
    "print('Done')\n",
    "\n",
    "## run the Q learning agent through the environment \n",
    "q_learner = Q_Agent(gw_obst.nstates, gw_obst.nactions)\n",
    "print('Running Q-Learning Agent...')\n",
    "q_rewards = q_learner.navigate(gw_obst, num_episodes=number_of_episodes)\n",
    "print('Done')\n"
   ]
  },
  {
   "cell_type": "code",
   "execution_count": 11,
   "id": "6fd98db9",
   "metadata": {},
   "outputs": [
    {
     "data": {
      "image/png": "[encoded data removed]",
      "text/plain": [
       "<Figure size 432x288 with 8 Axes>"
      ]
     },
     "metadata": {
      "needs_background": "light"
     },
     "output_type": "display_data"
    }
   ],
   "source": [
    "\n",
    "\n",
    "## Compare Values Learned by Agents \n",
    "fig, ax = plt.subplots(2,gw_obst.nactions)\n",
    "for i in range(gw_obst.nactions):\n",
    "    ax[0,i].imshow(mc_learner.q_table[:,i].reshape(n_rows,n_cols))\n",
    "    ax[1,i].imshow(q_learner.q_table[:,i].reshape(n_rows,n_cols))\n",
    "    ax[0,i].set_title(gw_obst.action_list[i])\n",
    "\n",
    "ax[0,0].set_ylabel('MC')#ax[1,0].set_ylabel('Q')\n",
    "ax[1,0].set_ylabel('Q')\n",
    "plt.show()"
   ]
  },
  {
   "cell_type": "code",
   "execution_count": 12,
   "id": "26814f11",
   "metadata": {},
   "outputs": [
    {
     "data": {
      "image/png": "[encoded data removed]",
      "text/plain": [
       "<Figure size 432x288 with 1 Axes>"
      ]
     },
     "metadata": {
      "needs_background": "light"
     },
     "output_type": "display_data"
    }
   ],
   "source": [
    "smooth=500\n",
    "plt.plot(running_mean(mc_rewards,smooth), label='MC')\n",
    "plt.plot(running_mean(q_rewards,smooth),label='Q')\n",
    "plt.legend(loc=0)\n",
    "plt.xlabel('Episode')\n",
    "plt.ylabel('Reward Obtained Per Episode')\n",
    "plt.show()"
   ]
  },
  {
   "cell_type": "code",
   "execution_count": null,
   "id": "bb458f3a",
   "metadata": {},
   "outputs": [],
   "source": []
  },
  {
   "cell_type": "code",
   "execution_count": null,
   "id": "4dc4c8eb",
   "metadata": {},
   "outputs": [],
   "source": []
  },
  {
   "cell_type": "code",
   "execution_count": 150,
   "id": "034d7fd2",
   "metadata": {},
   "outputs": [],
   "source": []
  },
  {
   "cell_type": "code",
   "execution_count": 151,
   "id": "26bfc34c",
   "metadata": {},
   "outputs": [],
   "source": []
  },
  {
   "cell_type": "code",
   "execution_count": 152,
   "id": "82fbc9f6",
   "metadata": {},
   "outputs": [],
   "source": []
  },
  {
   "cell_type": "code",
   "execution_count": null,
   "id": "157bc8ab",
   "metadata": {},
   "outputs": [],
   "source": []
  },
  {
   "cell_type": "code",
   "execution_count": 161,
   "id": "c353b3d9",
   "metadata": {},
   "outputs": [
    {
     "data": {
      "image/png": "[encoded data removed]",
      "text/plain": [
       "<Figure size 432x288 with 8 Axes>"
      ]
     },
     "metadata": {
      "needs_background": "light"
     },
     "output_type": "display_data"
    }
   ],
   "source": [
    "fig, ax = plt.subplots(2,gw_obst.nactions)\n",
    "for i in range(gw_obst.nactions):\n",
    "    ax[1,i].imshow(q_learner.q_table[:,i].reshape(n_rows,n_cols))\n",
    "    ax[0,i].set_title(gw_obst.action_list[i])\n",
    "\n",
    "\n",
    "ax[0,0].set_ylabel('Q')\n",
    "plt.show()"
   ]
  },
  {
   "cell_type": "raw",
   "id": "5b3cc2dd",
   "metadata": {},
   "source": []
  },
  {
   "cell_type": "code",
   "execution_count": null,
   "id": "217d98d4",
   "metadata": {},
   "outputs": [],
   "source": []
  }
 ],
 "metadata": {
  "kernelspec": {
   "display_name": "Python 3 (ipykernel)",
   "language": "python",
   "name": "python3"
  },
  "language_info": {
   "codemirror_mode": {
    "name": "ipython",
    "version": 3
   },
   "file_extension": ".py",
   "mimetype": "text/x-python",
   "name": "python",
   "nbconvert_exporter": "python",
   "pygments_lexer": "ipython3",
   "version": "3.9.7"
  }
 },
 "nbformat": 4,
 "nbformat_minor": 5
}
