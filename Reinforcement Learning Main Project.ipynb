{
 "cells": [
  {
   "cell_type": "code",
   "execution_count": 1,
   "id": "2d0e7451",
   "metadata": {},
   "outputs": [],
   "source": [
    "import numpy as np\n",
    "import matplotlib.pyplot as plt\n",
    "import mdp_tut_functions as mdp43wa\n",
    "import env_functions as ef\n",
    "from rl_utils import running_mean, discount_rwds\n",
    "\n",
    "# set seed for pseudorandom number generation -- make sure our trajectories look the same\n",
    "np.random.seed(80)\n",
    "\n",
    "%matplotlib inline\n",
    "\n",
    "from importlib import reload"
   ]
  },
  {
   "cell_type": "code",
   "execution_count": 2,
   "id": "454ac56c",
   "metadata": {},
   "outputs": [
    {
     "data": {
      "image/png": "[encoded data removed]",
      "text/plain": [
       "<Figure size 403.2x403.2 with 1 Axes>"
      ]
     },
     "metadata": {},
     "output_type": "display_data"
    }
   ],
   "source": [
    "n_rows,n_cols = 16,16\n",
    "step_penalization=-0.01\n",
    "gw_obst = ef.GridWorld(rows=n_rows,cols=n_cols,\n",
    "                  obstacles=[(4,2),(3,2),(2,2),(1,2),(1,3),(2,4),(3,5),(4,6),(5,6),(7,11),(8,10),(15,12),(9,9),(7,13),(10,8),(9,9),(9,7),(8,6),(13,1),(13,2),(12,8),(8,12),(9,13),(14,3),(12,11),(15,4),(13,15),(14,13),(13,10),(15,5),(15,4),(13,4),(13,5),(5,13),(6,14),(9,15),(10,15),(11,14),(12,13),(14,11),(12,11),(6,0),(7,1),(8,2),(9,3),(15,6),(8,15),(15,0),(0,15),(2,11),(1,12),(2,13),(3,14),(2,15),(13,4)], \n",
    "                  rewards={(15,15):10},\n",
    "                  terminals=[(14,15)],\n",
    "                  step_penalization=step_penalization,\n",
    "                  actionlist=['Down','Up','Right','Left'],\n",
    "                  view_labels=False\n",
    "                 )"
   ]
  },
  {
   "cell_type": "code",
   "execution_count": 3,
   "id": "f3b7f689",
   "metadata": {},
   "outputs": [
    {
     "data": {
      "image/png": "[encoded data removed]",
      "text/plain": [
       "<Figure size 403.2x403.2 with 1 Axes>"
      ]
     },
     "metadata": {},
     "output_type": "display_data"
    }
   ],
   "source": [
    "n_rows,n_cols = 16,16\n",
    "step_penalization=-0.01\n",
    "gw_obst = ef.GridWorld(rows=n_rows,cols=n_cols,\n",
    "                  obstacles=[(6,4),(5,5),(4,6),(3,7),(2,8),(3,9),(4,10),(5,11),(6,12),(7,11),(8,10),(9,9),(10,8),(9,9),(9,7),(8,6)], \n",
    "                  rewards={(6,8):10},\n",
    "                  terminals=[(6,8)],\n",
    "                  step_penalization=step_penalization,\n",
    "                  actionlist=['Down','Up','Right','Left'],\n",
    "                  view_labels=False\n",
    "                 )\n"
   ]
  },
  {
   "cell_type": "code",
   "execution_count": 4,
   "id": "f793ea79",
   "metadata": {},
   "outputs": [],
   "source": [
    "class Q_Agent(object):\n",
    "    def __init__(self, nstates, nactions, \n",
    "                 learning_rate=0.1, discount=0.9, epsilon=1): \n",
    "        \n",
    "        self.num_actions = nactions\n",
    "        self.num_states = nstates\n",
    "        self.action_space = np.arange(self.num_actions)\n",
    "\n",
    "        # this agent selects actions from a table of state,action values which we initalize randomly\n",
    "        #self.q_table = np.random.uniform(low=-1, high=1, size=(nstates, nactions))\n",
    "        self.q_table = np.zeros((gw_obst.nstates, gw_obst.nactions))\n",
    "\n",
    "        # parameters for learning\n",
    "        self.epsilon       = epsilon\n",
    "        self.learning_rate = learning_rate\n",
    "        self.discount      = discount # gamma\n",
    "        \n",
    "    def choose_action(self, state):\n",
    "        # this agent uses epsilon-greedy action selection, meaning that it selects \n",
    "        # the greedy (highest value) action most of the time, but with epsilon probability\n",
    "        # it will select a random action -- this helps encourage the agent to explore\n",
    "        # unseen trajectories\n",
    "        \n",
    "        ## TO DO -- write action selection for an epsilon-greedy policy \n",
    "        if np.random.random()>self.epsilon:\n",
    "            # take the action which corresponds to the highest value in the q table at that row (state)\n",
    "            action = np.argmax(self.q_table[state])\n",
    "        else:\n",
    "            action = np.random.choice(self.action_space)\n",
    "        return action\n",
    "    \n",
    "    def update_q_table(self, current_state, current_action, reward, new_state):\n",
    "        # this function describes how the Q table gets updated so the agent can make \n",
    "        # better choices based on what it has experienced from the environment \n",
    "        current_q = self.q_table[ current_state, current_action]\n",
    "        max_future_q = np.max(self.q_table[new_state,:])\n",
    "        \n",
    "        ## TO DO -- write the Q value update using Q-learning\n",
    "        new_q = current_q + self.learning_rate*(reward+self.discount*max_future_q-current_q)\n",
    "        self.q_table[current_state, current_action] = new_q\n",
    "        \n",
    "    def navigate(self, gw_obst, num_episodes, random_start=False, start=0):\n",
    "        # set how we will decay the randomness of action selection over the course of training\n",
    "        start_eps_decay = 1\n",
    "        end_eps_decay = num_episodes//2\n",
    "        epsilon_decay_value = self.epsilon/(end_eps_decay-start_eps_decay)\n",
    "        snapshot=[]\n",
    "\n",
    "        # initialize empty list for keeping track of rewards achieved per episode\n",
    "        reward_tracking=[]\n",
    "        max_steps= 1000\n",
    "\n",
    "        for episode in range(num_episodes):\n",
    "            gw_obst.reset()\n",
    "            # initalize reward counter\n",
    "            total_reward=0\n",
    "\n",
    "            # get first state\n",
    "            if random_start:\n",
    "                state=gw.obst.state\n",
    "            else:\n",
    "                state=start\n",
    "\n",
    "            for step in range(max_steps):\n",
    "                action = self.choose_action(state)\n",
    "                # take a step in the environment\n",
    "                next_state, reward, done, _ = gw_obst.step(action)\n",
    "\n",
    "                total_reward+=reward\n",
    "\n",
    "                if not done:\n",
    "                    self.update_q_table(state, action, reward, next_state)\n",
    "                else:\n",
    "                    self.q_table[state, action] = 0\n",
    "                    break\n",
    "                state=next_state\n",
    "\n",
    "            reward_tracking.append(total_reward)\n",
    "            snapshot.append(self.q_table.copy())\n",
    "\n",
    "\n",
    "\n",
    "            if end_eps_decay >= episode >= start_eps_decay:\n",
    "                self.epsilon -= epsilon_decay_value\n",
    "\n",
    "        return reward_tracking,snapshot\n",
    "    "
   ]
  },
  {
   "cell_type": "code",
   "execution_count": 5,
   "id": "c24ead00",
   "metadata": {},
   "outputs": [],
   "source": [
    "class Dyna_Q_Agent(object):\n",
    "    def __init__(self, nstates, nactions, \n",
    "                 learning_rate=0.1, discount=0.9, epsilon=1): \n",
    "        \n",
    "        self.num_actions = nactions\n",
    "        self.num_states  = nstates\n",
    "        self.action_space = np.arange(self.num_actions)\n",
    "        \n",
    "        self.dyna_q_table = np.zeros((gw_obst.nstates,gw_obst.nactions))\n",
    "        self.model        = {}\n",
    "        \n",
    "        # parameters for learning\n",
    "        self.epsilon       = epsilon\n",
    "        self.learning_rate = learning_rate\n",
    "        self.discount      = discount # gamma\n",
    "        \n",
    "    def choose_action(self, state):\n",
    "        # this agent uses epsilon-greedy action selection, meaning that it selects \n",
    "        # the greedy (highest value) action most of the time, but with epsilon probability\n",
    "        # it will select a random action -- this helps encourage the agent to explore\n",
    "        # unseen trajectories\n",
    "    \n",
    "        ## TO DO -- write action selection for an epsilon-greedy policy \n",
    "        if np.random.random()>self.epsilon:\n",
    "            # take the action which corresponds to the highest value in the q table at that row (state)\n",
    "            action = np.argmax(self.dyna_q_table[state])\n",
    "        else:\n",
    "            action = np.random.choice(self.action_space)\n",
    "        return action\n",
    "    \n",
    "    def planning(self,n_steps):  \n",
    "        for i in range(n_steps):\n",
    "            (state,action) = np.random.choice(self.model.keys()) \n",
    "            experience_list=self.model[(state,action)]\n",
    "            (next_state,reward)= np.random.choice(experience_list)\n",
    "            self.update_dyna_q_table(state,action,reward,next_state)\n",
    "         \n",
    "                 \n",
    "    def update_dyna_q_table(self, current_state, current_action, reward, new_state):\n",
    "        current_dyna_q    = self.dyna_q_table[ current_state, current_action]\n",
    "        max_future_dyna_q = np.max(self.dyna_q_table[new_state,:])    \n",
    "        \n",
    "        #value update for Dyna_Q using Q learning\n",
    "        new_dyna_q        = current_dyna_q + self.learning_rate*(reward+self.discount*max_future_dyna_q-current_dyna_q)\n",
    "        self.dyna_q_table[current_state, current_action] = new_dyna_q        \n",
    "    \n",
    "    def navigate(self, gw_obst, num_episodes, random_start=False, start=0):\n",
    "        # set how we will decay the randomness of action selection over the course of training\n",
    "        start_eps_decay = 1\n",
    "        end_eps_decay = num_episodes//2\n",
    "        epsilon_decay_value = self.epsilon/(end_eps_decay-start_eps_decay)\n",
    "        snapshot=[]\n",
    "        # initialize empty list for keeping track of rewards achieved per episode\n",
    "        reward_tracking=[]\n",
    "        max_steps= 1000\n",
    "\n",
    "        for episode in range(num_episodes):\n",
    "            gw_obst.reset()\n",
    "            # initialize reward counter\n",
    "            total_reward=0\n",
    "                 \n",
    "            #get first stage\n",
    "            if random_start:\n",
    "                 state=gw_obst.state\n",
    "            else: # take a step in the environment\n",
    "                state=start\n",
    "                gw_obst.state = start\n",
    "                 \n",
    "            for step in range (max_steps):\n",
    "                action = self.choose_action(state)\n",
    "                # take a step in the environment\n",
    "                next_state, reward, done, _ = gw_obst.step(action)\n",
    "                total_reward+=reward\n",
    "                 \n",
    "                if (state,action) not in self.model.keys():\n",
    "                    self.model[(state,action)]=[]\n",
    "                # storing transition in the model\n",
    "                self.model[(state,action)].append((next_state,reward))\n",
    "                \n",
    "                if not done:\n",
    "                    self.update_dyna_q_table(state, action, reward, next_state)\n",
    "                else:\n",
    "                    self.dyna_q_table[state, action] = 0\n",
    "                    break\n",
    "                state=next_state\n",
    "\n",
    "            reward_tracking.append(total_reward)\n",
    "            snapshot.append(self.dyna_q_table.copy())\n",
    "\n",
    "            if end_eps_decay >= episode >= start_eps_decay:\n",
    "                self.epsilon -= epsilon_decay_value\n",
    "\n",
    "        return reward_tracking,snapshot\n",
    "         \n",
    "    \n",
    "                 \n",
    "\n",
    "        "
   ]
  },
  {
   "cell_type": "code",
   "execution_count": 6,
   "id": "8e2b914b",
   "metadata": {},
   "outputs": [],
   "source": [
    "# Visualizing the reward function another way\n",
    "def plot_reward_map(gw_obs):\n",
    "    R_map = plt.imshow(gw_obs.R.reshape(n_rows,n_cols))\n",
    "    plt.colorbar(R_map)\n",
    "    plt.show()"
   ]
  },
  {
   "cell_type": "code",
   "execution_count": 7,
   "id": "a4c1b6af",
   "metadata": {},
   "outputs": [
    {
     "name": "stdout",
     "output_type": "stream",
     "text": [
      "Reward Function in Environment:\n"
     ]
    },
    {
     "data": {
      "image/png": "[encoded data removed]",
      "text/plain": [
       "<Figure size 432x288 with 2 Axes>"
      ]
     },
     "metadata": {
      "needs_background": "light"
     },
     "output_type": "display_data"
    },
    {
     "name": "stdout",
     "output_type": "stream",
     "text": [
      "Running Q-Learning Agent...\n",
      "Done\n"
     ]
    }
   ],
   "source": [
    "print('Reward Function in Environment:')\n",
    "plot_reward_map(gw_obst)\n",
    "\n",
    "number_of_episodes = 5000\n",
    "## run the Q learning agent through the environment \n",
    "modelfree  = Q_Agent(gw_obst.nstates, gw_obst.nactions)\n",
    "print('Running Q-Learning Agent...')\n",
    "q_rewards,q_snapshot = modelfree.navigate(gw_obst, num_episodes=number_of_episodes)\n",
    "print('Done')"
   ]
  },
  {
   "cell_type": "code",
   "execution_count": 8,
   "id": "5ccabb0f",
   "metadata": {},
   "outputs": [
    {
     "data": {
      "image/png": "[encoded data removed]",
      "text/plain": [
       "<Figure size 432x288 with 1 Axes>"
      ]
     },
     "metadata": {
      "needs_background": "light"
     },
     "output_type": "display_data"
    }
   ],
   "source": [
    "plt.plot(q_rewards)\n",
    "plt.show()"
   ]
  },
  {
   "cell_type": "code",
   "execution_count": 9,
   "id": "e2f7ef20",
   "metadata": {},
   "outputs": [
    {
     "data": {
      "image/png": "[encoded data removed]",
      "text/plain": [
       "<Figure size 432x288 with 4 Axes>"
      ]
     },
     "metadata": {
      "needs_background": "light"
     },
     "output_type": "display_data"
    }
   ],
   "source": [
    "index = 20\n",
    "fig, ax = plt.subplots(1,gw_obst.nactions)\n",
    "for i in range(gw_obst.nactions):\n",
    "    ax[i].imshow(q_snapshot[index][:,i].reshape(n_rows,n_cols))\n",
    "#ax[i].imshow(snapshot[index])"
   ]
  },
  {
   "cell_type": "code",
   "execution_count": 10,
   "id": "08c3e38f",
   "metadata": {},
   "outputs": [
    {
     "name": "stdout",
     "output_type": "stream",
     "text": [
      "Running Q-Learning Agent...\n",
      "Done\n"
     ]
    }
   ],
   "source": [
    "modelbased=Dyna_Q_Agent(gw_obst.nstates,gw_obst.nactions)\n",
    "print('Running Q-Learning Agent...')\n",
    "dyna_q_rewards,dyna_snapshot = modelbased.navigate(gw_obst, num_episodes=number_of_episodes)\n",
    "print('Done')"
   ]
  },
  {
   "cell_type": "code",
   "execution_count": 11,
   "id": "5d450785",
   "metadata": {},
   "outputs": [
    {
     "data": {
      "image/png": "[encoded data removed]",
      "text/plain": [
       "<Figure size 432x288 with 1 Axes>"
      ]
     },
     "metadata": {
      "needs_background": "light"
     },
     "output_type": "display_data"
    }
   ],
   "source": [
    "plt.plot(dyna_q_rewards)\n",
    "plt.show()"
   ]
  },
  {
   "cell_type": "code",
   "execution_count": 12,
   "id": "e4705ec4",
   "metadata": {},
   "outputs": [
    {
     "data": {
      "image/png": "[encoded data removed]",
      "text/plain": [
       "<Figure size 432x288 with 4 Axes>"
      ]
     },
     "metadata": {
      "needs_background": "light"
     },
     "output_type": "display_data"
    }
   ],
   "source": [
    "index = 20\n",
    "fig, ax = plt.subplots(1,gw_obst.nactions)\n",
    "for i in range(gw_obst.nactions):\n",
    "    ax[i].imshow(dyna_snapshot[index][:,i].reshape(n_rows,n_cols))"
   ]
  },
  {
   "cell_type": "code",
   "execution_count": 14,
   "id": "c849bb55",
   "metadata": {},
   "outputs": [
    {
     "name": "stderr",
     "output_type": "stream",
     "text": [
      "Clipping input data to the valid range for imshow with RGB data ([0..1] for floats or [0..255] for integers).\n"
     ]
    },
    {
     "data": {
      "image/png": "[encoded data removed]",
      "text/plain": [
       "<Figure size 432x288 with 2 Axes>"
      ]
     },
     "metadata": {
      "needs_background": "light"
     },
     "output_type": "display_data"
    }
   ],
   "source": [
    "Dyna_q_map = plt.imshow(dyna_snapshot)\n",
    "plt.colorbar(Dyna_q_map)\n",
    "plt.show()"
   ]
  },
  {
   "cell_type": "code",
   "execution_count": null,
   "id": "4b1f5540",
   "metadata": {},
   "outputs": [],
   "source": []
  },
  {
   "cell_type": "code",
   "execution_count": 16,
   "id": "9e7abccc",
   "metadata": {
    "scrolled": true
   },
   "outputs": [
    {
     "data": {
      "image/png": "[encoded data removed]",
      "text/plain": [
       "<Figure size 432x288 with 8 Axes>"
      ]
     },
     "metadata": {
      "needs_background": "light"
     },
     "output_type": "display_data"
    }
   ],
   "source": [
    "fig, ax = plt.subplots(2,gw_obst.nactions)\n",
    "for i in range(gw_obst.nactions):\n",
    "    ax[0,i].imshow(modelfree.q_table[:,i].reshape(n_rows,n_cols))\n",
    "    ax[1,i].imshow(modelbased.dyna_q_table[:,i].reshape(n_rows,n_cols))\n",
    "    ax[0,i].set_title(gw_obst.action_list[i])\n",
    "\n",
    "ax[0,0].set_ylabel('modelfree')#ax[1,0].set_ylabel('Q')\n",
    "ax[1,0].set_ylabel('modelbased')\n",
    "plt.show()"
   ]
  },
  {
   "cell_type": "code",
   "execution_count": 17,
   "id": "71457e03",
   "metadata": {
    "scrolled": true
   },
   "outputs": [
    {
     "data": {
      "image/png": "[encoded data removed]",
      "text/plain": [
       "<Figure size 432x288 with 1 Axes>"
      ]
     },
     "metadata": {
      "needs_background": "light"
     },
     "output_type": "display_data"
    }
   ],
   "source": [
    "smooth=50\n",
    "plt.plot(running_mean(q_rewards,smooth), label='Modelfree')\n",
    "plt.plot(running_mean(dyna_q_rewards,smooth),label='Modelbased')\n",
    "plt.legend(loc=0)\n",
    "plt.xlabel('Episode')\n",
    "plt.ylabel('Reward Obtained Per Episode')\n",
    "plt.show()"
   ]
  },
  {
   "cell_type": "code",
   "execution_count": null,
   "id": "29ac295f",
   "metadata": {},
   "outputs": [],
   "source": []
  },
  {
   "cell_type": "code",
   "execution_count": null,
   "id": "94f96287",
   "metadata": {},
   "outputs": [],
   "source": []
  },
  {
   "cell_type": "code",
   "execution_count": null,
   "id": "0f5d7ed7",
   "metadata": {},
   "outputs": [],
   "source": []
  },
  {
   "cell_type": "code",
   "execution_count": null,
   "id": "529d2764",
   "metadata": {},
   "outputs": [],
   "source": []
  },
  {
   "cell_type": "code",
   "execution_count": null,
   "id": "b8f59e13",
   "metadata": {},
   "outputs": [],
   "source": []
  },
  {
   "cell_type": "code",
   "execution_count": null,
   "id": "71041d57",
   "metadata": {},
   "outputs": [],
   "source": []
  },
  {
   "cell_type": "code",
   "execution_count": null,
   "id": "c20f4c3e",
   "metadata": {},
   "outputs": [],
   "source": []
  },
  {
   "cell_type": "code",
   "execution_count": null,
   "id": "c6feaa6c",
   "metadata": {},
   "outputs": [],
   "source": []
  }
 ],
 "metadata": {
  "kernelspec": {
   "display_name": "Python 3 (ipykernel)",
   "language": "python",
   "name": "python3"
  },
  "language_info": {
   "codemirror_mode": {
    "name": "ipython",
    "version": 3
   },
   "file_extension": ".py",
   "mimetype": "text/x-python",
   "name": "python",
   "nbconvert_exporter": "python",
   "pygments_lexer": "ipython3",
   "version": "3.9.7"
  }
 },
 "nbformat": 4,
 "nbformat_minor": 5
}
